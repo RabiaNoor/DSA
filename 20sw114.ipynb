{
  "nbformat": 4,
  "nbformat_minor": 0,
  "metadata": {
    "colab": {
      "provenance": [],
      "authorship_tag": "ABX9TyOQoQBrM93pcuTGLc47mzJo",
      "include_colab_link": true
    },
    "kernelspec": {
      "name": "python3",
      "display_name": "Python 3"
    },
    "language_info": {
      "name": "python"
    }
  },
  "cells": [
    {
      "cell_type": "markdown",
      "metadata": {
        "id": "view-in-github",
        "colab_type": "text"
      },
      "source": [
        "<a href=\"https://colab.research.google.com/github/RabiaNoor/DSA/blob/main/20sw114.ipynb\" target=\"_parent\"><img src=\"https://colab.research.google.com/assets/colab-badge.svg\" alt=\"Open In Colab\"/></a>"
      ]
    },
    {
      "cell_type": "markdown",
      "source": [
        "**task 1**"
      ],
      "metadata": {
        "id": "ydXqwe_2kt6N"
      }
    },
    {
      "cell_type": "code",
      "source": [
        "population=int(input(\"Enter the Population:\"));\n",
        "land_area=int(input(\"Enter the Land_Area:\"));\n",
        "\n",
        "def  population_density(population,land_area):\n",
        "  return print(\"POpulation_Density:\",population/land_area);\n",
        "\n",
        "\n",
        "population_density(population,land_area);"
      ],
      "metadata": {
        "colab": {
          "base_uri": "https://localhost:8080/"
        },
        "id": "QBIjngQ-kyoc",
        "outputId": "86101095-f511-4c7e-84b7-8860ba420915"
      },
      "execution_count": 1,
      "outputs": [
        {
          "output_type": "stream",
          "name": "stdout",
          "text": [
            "Enter the Population:10\n",
            "Enter the Land_Area:1\n",
            "POpulation_Density: 10.0\n"
          ]
        }
      ]
    },
    {
      "cell_type": "markdown",
      "source": [
        "**task 2**"
      ],
      "metadata": {
        "id": "XMAMhl9LlD1j"
      }
    },
    {
      "cell_type": "code",
      "source": [
        "def readable_timedelta(days):\n",
        "\n",
        "  weeks=days//7;\n",
        "  remaining_days=days%7;\n",
        "  return print(weeks,\" weeks\", remaining_days,\"days\");\n",
        "readable_timedelta(10);"
      ],
      "metadata": {
        "colab": {
          "base_uri": "https://localhost:8080/"
        },
        "id": "6AmVUm4ulHr2",
        "outputId": "52e14e42-3087-4458-adf8-73b93a60e55b"
      },
      "execution_count": 2,
      "outputs": [
        {
          "output_type": "stream",
          "name": "stdout",
          "text": [
            "1  weeks 3 days\n"
          ]
        }
      ]
    },
    {
      "cell_type": "markdown",
      "source": [
        "**task 3**"
      ],
      "metadata": {
        "id": "jDLHW0mXlM7V"
      }
    },
    {
      "cell_type": "code",
      "source": [
        "numbers = [\n",
        "    [34, 63, 88, 71, 29],\n",
        "    [90, 78, 51, 27, 45],\n",
        "    [63, 37, 85, 46, 22],\n",
        "    [51, 22, 34, 11, 18]\n",
        "]\n",
        "\n",
        "averages = list(map(lambda numbers3: sum(numbers3) / len(numbers3), numbers))\n",
        "print(averages)"
      ],
      "metadata": {
        "colab": {
          "base_uri": "https://localhost:8080/"
        },
        "id": "01cYobNrlPB8",
        "outputId": "937c2ea3-0a42-47f9-9934-d03cf07943fc"
      },
      "execution_count": 3,
      "outputs": [
        {
          "output_type": "stream",
          "name": "stdout",
          "text": [
            "[57.0, 58.2, 50.6, 27.2]\n"
          ]
        }
      ]
    },
    {
      "cell_type": "markdown",
      "source": [
        "**task 4**"
      ],
      "metadata": {
        "id": "FM9KqItelT9T"
      }
    },
    {
      "cell_type": "code",
      "source": [
        "cities = [\"New York City\", \"Los Angeles\", \"Chicago\", \"Mountain View\", \"Denver\", \"Boston\"]\n",
        "\n",
        "short_cities = list(filter(lambda name: len(name) < 10, cities))\n",
        "print(short_cities)"
      ],
      "metadata": {
        "colab": {
          "base_uri": "https://localhost:8080/"
        },
        "id": "a9wbP1amlWtZ",
        "outputId": "06340bf9-c5bb-4828-ff81-a9bbfdbbbc37"
      },
      "execution_count": 4,
      "outputs": [
        {
          "output_type": "stream",
          "name": "stdout",
          "text": [
            "['Chicago', 'Denver', 'Boston']\n"
          ]
        }
      ]
    },
    {
      "cell_type": "markdown",
      "source": [
        "**task 5**"
      ],
      "metadata": {
        "id": "gcVopFhklbWx"
      }
    },
    {
      "cell_type": "code",
      "source": [
        "names_input = input(\"Enter a list of names separated by spaces: \")\n",
        "names = names_input.split()\n",
        "\n",
        "assignments_input = input(\"Enter a list of the number of assignments separated by spaces: \")\n",
        "assignments = list(map(int, assignments_input.split()))\n",
        "\n",
        "grades_input = input(\"Enter a list of grades separated by spaces: \")\n",
        "grades = list(map(float, grades_input.split()))\n",
        "\n",
        "message = \"Hi {},\\n\\nThis is a reminder that you have {} assignments left to submit before you can graduate. Your current grade is {} and can increase to {} if you submit all assignments before the due date.\\n\\n\"\n",
        "\n",
        "# Write a for loop that iterates through each set of names, assignments, and grades to print each student's message\n",
        "for name, assignment_count, grade in zip(names, assignments, grades):\n",
        "    potential_grade = grade + 2 * assignment_count\n",
        "    print(message.format(name, assignment_count, grade, potential_grade))"
      ],
      "metadata": {
        "colab": {
          "base_uri": "https://localhost:8080/"
        },
        "id": "gRnLKwrOlftE",
        "outputId": "8c2df02f-754b-42bd-d05d-0c3387826e55"
      },
      "execution_count": 5,
      "outputs": [
        {
          "output_type": "stream",
          "name": "stdout",
          "text": [
            "Enter a list of names separated by spaces: N A F\n",
            "Enter a list of the number of assignments separated by spaces: 4 4 4\n",
            "Enter a list of grades separated by spaces: 8 5 8\n",
            "Hi N,\n",
            "\n",
            "This is a reminder that you have 4 assignments left to submit before you can graduate. Your current grade is 8.0 and can increase to 16.0 if you submit all assignments before the due date.\n",
            "\n",
            "\n",
            "Hi A,\n",
            "\n",
            "This is a reminder that you have 4 assignments left to submit before you can graduate. Your current grade is 5.0 and can increase to 13.0 if you submit all assignments before the due date.\n",
            "\n",
            "\n",
            "Hi F,\n",
            "\n",
            "This is a reminder that you have 4 assignments left to submit before you can graduate. Your current grade is 8.0 and can increase to 16.0 if you submit all assignments before the due date.\n",
            "\n",
            "\n"
          ]
        }
      ]
    },
    {
      "cell_type": "markdown",
      "source": [
        "**task 6**"
      ],
      "metadata": {
        "id": "gLHoZ21Hmerv"
      }
    },
    {
      "cell_type": "code",
      "source": [
        "file_content = \"\"\"We're the knights of the round table\n",
        "We dance whenever we're able\"\"\"\n",
        "with open(\"camelot.txt\", \"w\") as f:\n",
        "    f.write(file_content)\n",
        "\n",
        "with open(\"camelot.txt\", \"r\") as f:\n",
        "    first_10_chars = f.read(2)\n",
        "    print(\"First 2 characters:\")\n",
        "    print(first_10_chars)\n",
        "\n",
        "    next_15_chars = f.read(8)\n",
        "    print(\"\\nNext 8 characters:\")\n",
        "    print(next_15_chars)\n",
        "\n",
        "    rest_of_the_file = f.read()\n",
        "    print(\"\\nRest of the file:\")\n",
        "    print(rest_of_the_file)"
      ],
      "metadata": {
        "colab": {
          "base_uri": "https://localhost:8080/"
        },
        "id": "_GaF44IzmjxE",
        "outputId": "92074a16-7bf1-4e6b-8c97-c53a8ef48e0a"
      },
      "execution_count": 6,
      "outputs": [
        {
          "output_type": "stream",
          "name": "stdout",
          "text": [
            "First 2 characters:\n",
            "We\n",
            "\n",
            "Next 8 characters:\n",
            "'re the \n",
            "\n",
            "Rest of the file:\n",
            "knights of the round table\n",
            "We dance whenever we're able\n"
          ]
        }
      ]
    },
    {
      "cell_type": "markdown",
      "source": [
        "**task 7**"
      ],
      "metadata": {
        "id": "b-m0pTzAmsF1"
      }
    },
    {
      "cell_type": "code",
      "source": [
        "def create_cast_list(filename):\n",
        "    cast_list = []\n",
        "    # Use 'with' to open the file\n",
        "    with open(filename, 'r') as file:\n",
        "        # Use the for loop syntax to process each line\n",
        "        for line in file:\n",
        "            # Split the line using the comma as the delimiter\n",
        "            data = line.strip().split(',')\n",
        "            # If there is a comma, append the data before the comma to cast_list\n",
        "            if len(data) > 0:\n",
        "                cast_list.append(data[0])\n",
        "\n",
        "    return cast_list\n",
        "\n",
        "cast_list = create_cast_list('/content/actors.txt')\n",
        "for actor in cast_list:\n",
        "    print(actor)"
      ],
      "metadata": {
        "colab": {
          "base_uri": "https://localhost:8080/"
        },
        "id": "YpJyyQczoRt7",
        "outputId": "20f25161-3e68-4b94-9f7b-edc301ef8cb2"
      },
      "execution_count": 11,
      "outputs": [
        {
          "output_type": "stream",
          "name": "stdout",
          "text": [
            "Graham Chapman\n",
            "Eric Idle\n",
            "Terry Jones\n",
            "Michael Palin\n",
            "Terry Gilliam\n",
            "John Cleese\n",
            "Carol Cleveland\n",
            "Ian Davidson\n",
            "John Hughman\n",
            "The Fred Tomlinson Singers\n",
            "Connie Booth\n",
            "Bob Raymond\n",
            "Lyn Ashley\n",
            "Rita Davies\n",
            "Stanley Mason\n",
            "David Ballantyne\n",
            "Donna Reading\n",
            "Peter Brett\n",
            "Maureen Flanagan\n",
            "Katya Wyeth\n",
            "Frank Lester\n",
            "Neil Innes\n",
            "Dick Vosburgh\n",
            "Sandra Richards\n",
            "Julia Breck\n",
            "Nicki Howorth\n",
            "Jimmy Hill\n",
            "Barry Cryer\n",
            "Jeannette Wild\n",
            "Marjorie Wilde\n",
            "Marie Anderson\n",
            "Caron Gardner\n",
            "Nosher Powell\n",
            "Carolae Donoghue\n",
            "Vincent Wong\n",
            "Helena Clayton\n",
            "Nigel Jones\n",
            "Roy Gunson\n",
            "Daphne Davey\n",
            "Stenson Falke\n",
            "Alexander Curry\n",
            "Frank Williams\n",
            "Ralph Wood\n",
            "Rosalind Bailey\n",
            "Marion Mould\n",
            "Sheila Sands\n",
            "Richard Baker\n",
            "Douglas Adams\n",
            "Ewa Aulin\n",
            "Reginald Bosanquet\n",
            "Barbara Lindley\n",
            "Roy Brent\n",
            "Jonas Card\n",
            "Tony Christopher\n",
            "Beulah Hughes\n",
            "Peter Kodak\n",
            "Lulu\n",
            "Jay Neill\n",
            "Graham Skidmore\n",
            "Ringo Starr\n",
            "Fred Tomlinson\n",
            "David Hamilton\n",
            "Suzy Mandel\n",
            "Peter Woods\n"
          ]
        }
      ]
    }
  ]
}