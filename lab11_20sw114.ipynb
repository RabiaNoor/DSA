{
  "nbformat": 4,
  "nbformat_minor": 0,
  "metadata": {
    "colab": {
      "provenance": [],
      "authorship_tag": "ABX9TyOdB0a0z4sdYADx9KVFnatj",
      "include_colab_link": true
    },
    "kernelspec": {
      "name": "python3",
      "display_name": "Python 3"
    },
    "language_info": {
      "name": "python"
    }
  },
  "cells": [
    {
      "cell_type": "markdown",
      "metadata": {
        "id": "view-in-github",
        "colab_type": "text"
      },
      "source": [
        "<a href=\"https://colab.research.google.com/github/RabiaNoor/DSA/blob/main/lab11_20sw114.ipynb\" target=\"_parent\"><img src=\"https://colab.research.google.com/assets/colab-badge.svg\" alt=\"Open In Colab\"/></a>"
      ]
    },
    {
      "cell_type": "code",
      "source": [
        "import pandas as pd\n",
        "import numpy as np\n",
        "import matplotlib.pyplot as plt\n",
        "import seaborn as sns\n",
        "import random\n",
        "from sklearn.feature_extraction.text import TfidfVectorizer\n",
        "from sklearn.cluster import KMeans\n",
        "import helper"
      ],
      "metadata": {
        "id": "VSxUg6zXlUrT"
      },
      "execution_count": null,
      "outputs": []
    },
    {
      "cell_type": "code",
      "source": [
        "data = pd.read_csv('/content/sample_data/movies.csv')\n",
        "data.head()"
      ],
      "metadata": {
        "id": "PDk8BLBblWf0"
      },
      "execution_count": null,
      "outputs": []
    },
    {
      "cell_type": "code",
      "source": [
        "# Load the dataset\n",
        "data = pd.read_csv(\"/content/sample_data/movies.csv\")"
      ],
      "metadata": {
        "id": "8tv05pEQlZ5V"
      },
      "execution_count": null,
      "outputs": []
    },
    {
      "cell_type": "code",
      "source": [
        "#Filter movies with Comedy and Fantasy genres\n",
        "comedy_fantasy_movies = data[data['genres'].str.contains('Comedy') & data['genres'].str.contains('Fantasy')]"
      ],
      "metadata": {
        "id": "zYt7DcUGlh-x"
      },
      "execution_count": null,
      "outputs": []
    },
    {
      "cell_type": "code",
      "source": [
        "# Filter movies with Comedy and Fantasy genres\n",
        "comedy_fantasy_movies = data[data['genres'].str.contains('Comedy') & data['genres'].str.contains('Fantasy')]"
      ],
      "metadata": {
        "id": "MvGxFUZUlldv"
      },
      "execution_count": null,
      "outputs": []
    },
    {
      "cell_type": "code",
      "source": [
        "# Extract the movie titles\n",
        "movie_titles = comedy_fantasy_movies['title'].tolist()"
      ],
      "metadata": {
        "id": "NO3lSVnnlolj"
      },
      "execution_count": null,
      "outputs": []
    },
    {
      "cell_type": "code",
      "source": [
        "tfidf_vectorizer = TfidfVectorizer(max_features=1000, stop_words='english')\n",
        "tfidf_matrix = tfidf_vectorizer.fit_transform(movie_titles)"
      ],
      "metadata": {
        "id": "_Cj_vrErlrRB"
      },
      "execution_count": null,
      "outputs": []
    },
    {
      "cell_type": "code",
      "source": [
        "# Perform K-means clustering\n",
        "k = 3  # You can change the number of clusters as needed\n",
        "kmeans = KMeans(n_clusters=k)\n",
        "kmeans.fit(tfidf_matrix)"
      ],
      "metadata": {
        "id": "2yqFQ25zltlD"
      },
      "execution_count": null,
      "outputs": []
    },
    {
      "cell_type": "code",
      "source": [
        "# Add cluster labels to the dataset\n",
        "comedy_fantasy_movies['cluster'] = kmeans.labels_"
      ],
      "metadata": {
        "id": "Ck3besSMlwNW"
      },
      "execution_count": null,
      "outputs": []
    },
    {
      "cell_type": "code",
      "source": [
        "\n",
        "# Print movies in each cluster\n",
        "for cluster_num in range(k):\n",
        "    cluster_movies = comedy_fantasy_movies[comedy_fantasy_movies['cluster'] == cluster_num]\n",
        "    print(f\"Cluster {cluster_num + 1}:\")\n",
        "    print(cluster_movies['title'].tolist())\n"
      ],
      "metadata": {
        "id": "VtWUs4rylyqP"
      },
      "execution_count": null,
      "outputs": []
    }
  ]
}