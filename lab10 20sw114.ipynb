{
  "nbformat": 4,
  "nbformat_minor": 0,
  "metadata": {
    "colab": {
      "provenance": [],
      "authorship_tag": "ABX9TyNV9+905YzXg2fCU1kkOmDJ",
      "include_colab_link": true
    },
    "kernelspec": {
      "name": "python3",
      "display_name": "Python 3"
    },
    "language_info": {
      "name": "python"
    }
  },
  "cells": [
    {
      "cell_type": "markdown",
      "metadata": {
        "id": "view-in-github",
        "colab_type": "text"
      },
      "source": [
        "<a href=\"https://colab.research.google.com/github/RabiaNoor/DSA/blob/main/lab10%2020sw114.ipynb\" target=\"_parent\"><img src=\"https://colab.research.google.com/assets/colab-badge.svg\" alt=\"Open In Colab\"/></a>"
      ]
    },
    {
      "cell_type": "code",
      "execution_count": null,
      "metadata": {
        "id": "0bwFoBBIqYxE"
      },
      "outputs": [],
      "source": [
        "\n",
        "import pandas as pd\n",
        "from sklearn.model_selection import train_test_split\n",
        "from sklearn.tree import DecisionTreeClassifier\n",
        "from sklearn.naive_bayes import GaussianNB\n",
        "from sklearn.metrics import accuracy_score, classification_report\n",
        "\n",
        "# Step 1: Data Preprocessing\n",
        "\n",
        "df = pd.read_csv('/content/PS_20174392719_1491204439457_log.csv')"
      ]
    },
    {
      "cell_type": "code",
      "source": [
        "# Step 2: Feature Engineering\n",
        "# For simplicity, we'll use 'type', 'amount', 'oldbalanceOrg', 'oldbalanceDest' as features\n",
        "features = ['type', 'amount', 'oldbalanceOrg', 'oldbalanceDest']\n",
        "target = 'isFraud'"
      ],
      "metadata": {
        "id": "zxg_RMq4qaF7"
      },
      "execution_count": null,
      "outputs": []
    },
    {
      "cell_type": "code",
      "source": [
        "\n",
        "# Encode categorical feature 'type'\n",
        "df['type'] = df['type'].astype('category').cat.codes\n",
        "\n",
        "# Drop rows with NaN values in the target 'y'\n",
        "df.dropna(subset=[target], inplace=True)\n",
        "\n",
        "# Step 3: Train-Test Split\n",
        "X = df[features]\n",
        "y = df[target]\n",
        "X_train, X_test, y_train, y_test = train_test_split(X, y, test_size=0.2, random_state=42)\n"
      ],
      "metadata": {
        "id": "wT42DBlmqcrn"
      },
      "execution_count": null,
      "outputs": []
    },
    {
      "cell_type": "code",
      "source": [
        "# Step 4: Model Training\n",
        "# Train Decision Tree classifier\n",
        "dt_classifier = DecisionTreeClassifier(random_state=42)\n",
        "dt_classifier.fit(X_train, y_train)\n",
        "\n",
        "# Train Naïve Bayes classifier (Gaussian Naïve Bayes for numerical features)\n",
        "nb_classifier = GaussianNB()\n",
        "nb_classifier.fit(X_train, y_train)\n"
      ],
      "metadata": {
        "id": "fF5mHT9Dqh0v"
      },
      "execution_count": null,
      "outputs": []
    },
    {
      "cell_type": "code",
      "source": [
        "# Step 5: Model Evaluation\n",
        "# Evaluate Decision Tree classifier\n",
        "y_pred_dt = dt_classifier.predict(X_test)\n",
        "accuracy_dt = accuracy_score(y_test, y_pred_dt)\n",
        "classification_report_dt = classification_report(y_test, y_pred_dt)\n",
        "\n",
        "# Evaluate Naïve Bayes classifier\n",
        "y_pred_nb = nb_classifier.predict(X_test)\n",
        "accuracy_nb = accuracy_score(y_test, y_pred_nb)\n",
        "classification_report_nb = classification_report(y_test, y_pred_nb)\n",
        "\n",
        "# Print evaluation results\n",
        "print(\"Decision Tree Classifier:\")\n",
        "print(\"Accuracy:\", accuracy_dt)\n",
        "print(\"Classification Report:\\n\", classification_report_dt)\n",
        "\n",
        "print(\"\\nNaïve Bayes Classifier:\")\n",
        "print(\"Accuracy:\", accuracy_nb)\n",
        "print(\"Classification Report:\\n\", classification_report_nb)"
      ],
      "metadata": {
        "id": "iFHE137jql0f"
      },
      "execution_count": null,
      "outputs": []
    }
  ]
}