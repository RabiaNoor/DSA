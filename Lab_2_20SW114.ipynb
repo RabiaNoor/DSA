{
  "nbformat": 4,
  "nbformat_minor": 0,
  "metadata": {
    "colab": {
      "provenance": [],
      "authorship_tag": "ABX9TyOPZz52ZAKzCgkteKrsOhcz",
      "include_colab_link": true
    },
    "kernelspec": {
      "name": "python3",
      "display_name": "Python 3"
    },
    "language_info": {
      "name": "python"
    }
  },
  "cells": [
    {
      "cell_type": "markdown",
      "metadata": {
        "id": "view-in-github",
        "colab_type": "text"
      },
      "source": [
        "<a href=\"https://colab.research.google.com/github/RabiaNoor/DSA/blob/main/Lab_2_20SW114.ipynb\" target=\"_parent\"><img src=\"https://colab.research.google.com/assets/colab-badge.svg\" alt=\"Open In Colab\"/></a>"
      ]
    },
    {
      "cell_type": "code",
      "execution_count": null,
      "metadata": {
        "colab": {
          "base_uri": "https://localhost:8080/"
        },
        "id": "hvwTpkb6XxK-",
        "outputId": "19b874d8-6c28-4fa9-ed0b-1822e93199f9"
      },
      "outputs": [
        {
          "output_type": "stream",
          "name": "stdout",
          "text": [
            "Enter valid points: 181\n",
            "Congratulations! You won the Penguin\n"
          ]
        }
      ],
      "source": [
        "#####Task_1######\n",
        "\n",
        "points = int(input(\"Enter valid points: \"))\n",
        "\n",
        "if points >= 1 and points <= 50:\n",
        "    print(\"Congratulations! You won the Wooden rabbit\")\n",
        "elif points > 50 and points <= 150:\n",
        "    print(\"Oh Dear, No prize!\")\n",
        "elif points > 150 and points <= 180:\n",
        "    print(\"Congratulations! You won the Wafer-thin mint\")\n",
        "elif points > 180 and points <= 200:\n",
        "    print(\"Congratulations! You won the Penguin\")\n",
        "else:\n",
        "    print(\"Invalid input\")"
      ]
    },
    {
      "cell_type": "code",
      "source": [
        "####Task_2######\n",
        "\n",
        "answer = 114\n",
        "guess = int(input(\"Enter your guess: \"))\n",
        "if guess < answer:\n",
        "    print(\"OOps, Your guess is too low.\")\n",
        "elif guess > answer:\n",
        "    print(\"OOps, Your guess is too high.\")\n",
        "else:\n",
        "    print(\"Nice! Your guess matched the answer!\")\n"
      ],
      "metadata": {
        "colab": {
          "base_uri": "https://localhost:8080/"
        },
        "id": "MxRlaRkRYwc7",
        "outputId": "7d425d2e-28aa-4125-aa40-81a955196741"
      },
      "execution_count": null,
      "outputs": [
        {
          "output_type": "stream",
          "name": "stdout",
          "text": [
            "Enter your guess: 129\n",
            "OOps, Your guess is too high.\n"
          ]
        }
      ]
    },
    {
      "cell_type": "code",
      "source": [],
      "metadata": {
        "id": "o2_THH2v65Za"
      },
      "execution_count": null,
      "outputs": []
    },
    {
      "cell_type": "code",
      "source": [
        "\n",
        "#Task 3\n",
        "def calculate_tax(amount, state):\n",
        "    # Define the tax rates for each state\n",
        "    tax_rates = {\n",
        "        'CA': 0.075,\n",
        "        'MN': 0.095,\n",
        "        'NY': 0.089\n",
        "    }\n",
        "\n",
        "    # Check if the state is in the tax_rates dictionary\n",
        "    if state in tax_rates:\n",
        "        tax_rate = tax_rates[state]\n",
        "        tax_amount = amount * tax_rate\n",
        "        total_amount = amount + tax_amount\n",
        "        return total_amount\n",
        "    else:\n",
        "        print(\"Invalid state code. Cannot calculate tax.\")\n",
        "        return None\n",
        "\n",
        "# Test the function\n",
        "purchase_amount = float(input(\"Enter the purchase amount: \"))\n",
        "state_code = input(\"Enter the state code (CA, MN, or NY): \")\n",
        "\n",
        "total_amount_with_tax = calculate_tax(purchase_amount, state_code)\n",
        "if total_amount_with_tax is not None:\n",
        "    print(f\"Total amount with tax: ${total_amount_with_tax:.2f}\")\n"
      ],
      "metadata": {
        "colab": {
          "base_uri": "https://localhost:8080/"
        },
        "id": "XwQIC1dez17V",
        "outputId": "6076f7bb-26e5-4633-b02c-54207f2cc93b"
      },
      "execution_count": 1,
      "outputs": [
        {
          "output_type": "stream",
          "name": "stdout",
          "text": [
            "Enter the purchase amount: 45\n",
            "Enter the state code (CA, MN, or NY): CA\n",
            "Total amount with tax: $48.38\n"
          ]
        }
      ]
    },
    {
      "cell_type": "code",
      "source": [
        "#Task 4\n",
        "sentence = [\"the\", \"quick\", \"brown\", \"fox\", \"jumped\", \"over\", \"the\",\n",
        "\"lazy\", \"dog\"]\n",
        "\n",
        "for element in sentence:\n",
        "    print(element);"
      ],
      "metadata": {
        "id": "d4EBUVeT_NR5"
      },
      "execution_count": null,
      "outputs": []
    },
    {
      "cell_type": "code",
      "source": [
        "\n",
        "#Task 5\n",
        "number_list = list(range(1, 31))\n",
        "\n",
        "\n",
        "multiples_of_5 = [num for num in number_list if num % 5 == 0 ]\n",
        "\n",
        "# Display the multiples of 5\n",
        "\n",
        "print(multiples_of_5);"
      ],
      "metadata": {
        "id": "0bLLcG0E-XQT"
      },
      "execution_count": null,
      "outputs": []
    },
    {
      "cell_type": "code",
      "source": [
        "\n",
        "#Task 6\n",
        "names = [ \"Nayab Nisaar\", \"Faiz Nadeem\", \"Tom and Jerry\", \"Nimra Ahmed\"]\n",
        "first_names = [name.split()[0].lower() for name in names]\n",
        "print(first_names)"
      ],
      "metadata": {
        "id": "DqGMhO3m-aPz"
      },
      "execution_count": null,
      "outputs": []
    },
    {
      "cell_type": "code",
      "source": [
        "\n",
        "#Task 7\n",
        "multiples_3 = [num * 3 for num in range(1, 21)]\n",
        "print(multiples_3)\n"
      ],
      "metadata": {
        "id": "AjiCPV3g-dnu"
      },
      "execution_count": null,
      "outputs": []
    },
    {
      "cell_type": "code",
      "source": [
        "\n",
        "#Task 8\n",
        "scores = {\n",
        "    \"Shifa\": 70,\n",
        "    \"Sualeha\": 35,\n",
        "    \"Nayab\": 82,\n",
        "    \"Nisar\": 93,\n",
        "    \"Faiz\": 98\n",
        "}\n",
        "\n",
        "passed = [name if score >= 65 else name + \" (Failed)\" for name, score in scores.items()]\n",
        "print(passed);"
      ],
      "metadata": {
        "id": "pqqqhRyV-jGb"
      },
      "execution_count": null,
      "outputs": []
    },
    {
      "cell_type": "code",
      "source": [
        "\n",
        "#Task 9\n",
        "cast_names = [\"Arbab\", \"Sheikh\", \"Rajput\", \"Memon\", \"Arain\"]\n",
        "cast_heights = [72, 68, 72, 66, 76]\n",
        "\n",
        "cast = dict(zip(cast_names, cast_heights))\n",
        "print(cast)"
      ],
      "metadata": {
        "id": "amRA7YPG-mM8"
      },
      "execution_count": null,
      "outputs": []
    },
    {
      "cell_type": "code",
      "source": [
        "\n",
        "#Task10\n",
        "cast = [\"Kamboh\", \"Sheikh\", \"Rajput\", \"Memon\", \"Arain\"]\n",
        "heights = [72, 68, 72, 66, 76]\n",
        "\n",
        "for index, name in enumerate(cast):\n",
        "    cast[index] = name + str(heights[index])\n",
        "\n",
        "print(cast)"
      ],
      "metadata": {
        "id": "vzjyLXoo-qgd"
      },
      "execution_count": null,
      "outputs": []
    },
    {
      "cell_type": "code",
      "source": [
        "sentence = [\"the\", \"quick\", \"brown\", \"fox\", \"jumped\", \"over\", \"the\",\n",
        "\"lazy\", \"dog\"]\n",
        "\n",
        "for element in sentence:\n",
        "    print(element);"
      ],
      "metadata": {
        "id": "ah_tLbLn-IFJ"
      },
      "execution_count": null,
      "outputs": []
    }
  ]
}