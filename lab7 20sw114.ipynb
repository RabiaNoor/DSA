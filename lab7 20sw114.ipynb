{
  "nbformat": 4,
  "nbformat_minor": 0,
  "metadata": {
    "colab": {
      "provenance": [],
      "authorship_tag": "ABX9TyMhmJFDHHJL/doRy/yggEe8",
      "include_colab_link": true
    },
    "kernelspec": {
      "name": "python3",
      "display_name": "Python 3"
    },
    "language_info": {
      "name": "python"
    }
  },
  "cells": [
    {
      "cell_type": "markdown",
      "metadata": {
        "id": "view-in-github",
        "colab_type": "text"
      },
      "source": [
        "<a href=\"https://colab.research.google.com/github/RabiaNoor/DSA/blob/main/lab7%2020sw114.ipynb\" target=\"_parent\"><img src=\"https://colab.research.google.com/assets/colab-badge.svg\" alt=\"Open In Colab\"/></a>"
      ]
    },
    {
      "cell_type": "code",
      "execution_count": null,
      "metadata": {
        "id": "eZShQb-rnTNy"
      },
      "outputs": [],
      "source": [
        "#store\n",
        "import numpy as np\n",
        "import pandas as pd\n",
        "#visualize\n",
        "import matplotlib.pyplot   as plt\n",
        "import seaborn as sb\n",
        "%matplotlib inline\n"
      ]
    },
    {
      "cell_type": "code",
      "source": [
        "pk=pd.read_csv('pokemon.csv')"
      ],
      "metadata": {
        "id": "kvgVQdGTo1_V"
      },
      "execution_count": null,
      "outputs": []
    },
    {
      "cell_type": "code",
      "source": [
        "print(pk.shape)\n",
        "pk.head()\n",
        ""
      ],
      "metadata": {
        "id": "bBCyqVIBo7i6"
      },
      "execution_count": null,
      "outputs": []
    },
    {
      "cell_type": "code",
      "source": [
        "pk.dropna(axis=0,inplace=True)\n",
        "pk.head()"
      ],
      "metadata": {
        "id": "zuCL7fwJo-Qe"
      },
      "execution_count": null,
      "outputs": []
    },
    {
      "cell_type": "code",
      "source": [
        "pk.dropna(axis=0,inplace=True)\n",
        "pk.head()"
      ],
      "metadata": {
        "id": "Yu2Ma1espBTu"
      },
      "execution_count": null,
      "outputs": []
    },
    {
      "cell_type": "code",
      "source": [
        "sb.countplot(data=pk, x='generation_id')"
      ],
      "metadata": {
        "id": "0o-CE8-opECQ"
      },
      "execution_count": null,
      "outputs": []
    },
    {
      "cell_type": "code",
      "source": [
        "sb.countplot(data=pk, x='generation_id')"
      ],
      "metadata": {
        "id": "jmmdOeSppGuu"
      },
      "execution_count": null,
      "outputs": []
    },
    {
      "cell_type": "code",
      "source": [
        "base_color=sb.color_palette()[0]\n",
        "sb.countplot(data=pk , x='generation_id' , color=base_color)"
      ],
      "metadata": {
        "id": "McObZQWrpLkE"
      },
      "execution_count": null,
      "outputs": []
    },
    {
      "cell_type": "code",
      "source": [
        "gen_order=pk['generation_id'].value_counts().index\n",
        "\n",
        "gen_order\n",
        "\n",
        "sb.countplot(data=pk , x='generation_id' , color=base_color, order=gen_order)"
      ],
      "metadata": {
        "id": "2yNxjM-9pOM7"
      },
      "execution_count": null,
      "outputs": []
    },
    {
      "cell_type": "code",
      "source": [
        "pk['type_1'].value_counts()\n"
      ],
      "metadata": {
        "id": "HIJMQPH_pRmb"
      },
      "execution_count": null,
      "outputs": []
    },
    {
      "cell_type": "code",
      "source": [
        "type_order= pk['type_1'].value_counts().index"
      ],
      "metadata": {
        "id": "vbU7QAcspT-6"
      },
      "execution_count": null,
      "outputs": []
    },
    {
      "cell_type": "code",
      "source": [
        "base_color1 = sb.color_palette()[2]"
      ],
      "metadata": {
        "id": "bkKiVEg4pWER"
      },
      "execution_count": null,
      "outputs": []
    },
    {
      "cell_type": "code",
      "source": [
        "\n",
        "sb.countplot(data=pk , x='type_1' , color=base_color1, order=type_order)\n"
      ],
      "metadata": {
        "id": "-fRU6ZCxpYg5"
      },
      "execution_count": null,
      "outputs": []
    },
    {
      "cell_type": "code",
      "source": [
        "sorted_counts = pk['generation_id'].value_counts()\n",
        "plt.pie(sorted_counts, labels=sorted_counts.index, startangle=90,\n",
        "        counterclock=False)\n",
        "plt.axis('square');"
      ],
      "metadata": {
        "id": "1_UTJICApcPy"
      },
      "execution_count": null,
      "outputs": []
    }
  ]
}