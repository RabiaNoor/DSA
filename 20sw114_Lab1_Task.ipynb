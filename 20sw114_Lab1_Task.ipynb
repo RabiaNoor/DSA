{
  "nbformat": 4,
  "nbformat_minor": 0,
  "metadata": {
    "colab": {
      "provenance": [],
      "include_colab_link": true
    },
    "kernelspec": {
      "name": "python3",
      "display_name": "Python 3"
    },
    "language_info": {
      "name": "python"
    }
  },
  "cells": [
    {
      "cell_type": "markdown",
      "metadata": {
        "id": "view-in-github",
        "colab_type": "text"
      },
      "source": [
        "<a href=\"https://colab.research.google.com/github/RabiaNoor/DSA/blob/main/20sw114_Lab1_Task.ipynb\" target=\"_parent\"><img src=\"https://colab.research.google.com/assets/colab-badge.svg\" alt=\"Open In Colab\"/></a>"
      ]
    },
    {
      "cell_type": "markdown",
      "source": [
        "task_1"
      ],
      "metadata": {
        "id": "4lF4kwSIsLVQ"
      }
    },
    {
      "cell_type": "code",
      "execution_count": 1,
      "metadata": {
        "colab": {
          "base_uri": "https://localhost:8080/"
        },
        "id": "QRR3WiZdrydJ",
        "outputId": "23abd383-e4ba-409c-da03-3ab410242e11"
      },
      "outputs": [
        {
          "metadata": {
            "tags": null
          },
          "name": "stdout",
          "output_type": "stream",
          "text": [
            "Hey I am  rabia my last_name is Noor\n"
          ]
        }
      ],
      "source": [
        "first_name=\"rabia\";\n",
        "last_name=\"Noor\";\n",
        "print(\"Hey I am \",first_name,\"my last_name is\",last_name)"
      ]
    },
    {
      "cell_type": "markdown",
      "source": [
        "task_2"
      ],
      "metadata": {
        "id": "3ekH0RBAsOKo"
      }
    },
    {
      "cell_type": "code",
      "source": [
        "my_string = \"rabia noor\"\n",
        "length = len(my_string)\n",
        "print(length);\n",
        "\n",
        "my_string = \"rabia\"\n",
        "lowercase_string = my_string.lower()\n",
        "print(lowercase_string)\n",
        "\n",
        "\n",
        "my_string = \"rabia noor\"\n",
        "uppercase_string = my_string.upper()\n",
        "print(uppercase_string);\n",
        "\n",
        "\n",
        "my_string = \"   Hello, World!   \"\n",
        "stripped_string = my_string.strip()\n",
        "print(stripped_string)\n",
        "\n",
        "\n",
        "\n",
        "\n",
        "my_string = \"Hey How are you ?\"\n",
        "split_string = my_string.split(\",\")\n",
        "print(split_string)\n",
        "\n",
        "\n"
      ],
      "metadata": {
        "colab": {
          "base_uri": "https://localhost:8080/"
        },
        "id": "JiaLg4FlsRM7",
        "outputId": "5fdefca2-c131-4f54-f92c-c069ee4549e9"
      },
      "execution_count": 2,
      "outputs": [
        {
          "output_type": "stream",
          "name": "stdout",
          "text": [
            "10\n",
            "rabia\n",
            "RABIA NOOR\n",
            "Hello, World!\n",
            "['Hey How are you ?']\n"
          ]
        }
      ]
    },
    {
      "cell_type": "markdown",
      "source": [
        "task_3"
      ],
      "metadata": {
        "id": "k38UJNb0uz2N"
      }
    },
    {
      "cell_type": "code",
      "source": [
        "\n",
        "month = 8\n",
        "days_in_month = [31, 28, 31, 30, 31, 30, 31, 31, 30, 31, 30, 31]\n",
        "\n",
        "num_days = days_in_month[month - 1]\n",
        "\n",
        "print(num_days);"
      ],
      "metadata": {
        "id": "_97lf1_lu1h_"
      },
      "execution_count": null,
      "outputs": []
    },
    {
      "cell_type": "markdown",
      "source": [
        "task_4"
      ],
      "metadata": {
        "id": "gk-fqe8iu-mW"
      }
    },
    {
      "cell_type": "code",
      "source": [
        "\n",
        "eclipse_dates = ['June 21, 2001', 'December 4, 2002', 'November 23, 2003', 'March 29, 2006', 'August 1, 2008', 'July 22, 2009', 'July 11, 2010', 'November 13, 2012', 'March 20, 2015', 'March 9, 2016']\n",
        "\n",
        "recent_dates = eclipse_dates[-3:]\n",
        "print(recent_dates);"
      ],
      "metadata": {
        "id": "DaQJy_BtvLZw"
      },
      "execution_count": null,
      "outputs": []
    },
    {
      "cell_type": "markdown",
      "source": [
        "task_5\n"
      ],
      "metadata": {
        "id": "z__t4-wmu_0W"
      }
    },
    {
      "cell_type": "code",
      "source": [
        "\n",
        "\n",
        "students = {\n",
        "    \"rabia\": {\n",
        "        \"age\": 18,\n",
        "        \"grade\": \"12th\",\n",
        "        \"subjects\": [\"Math\", \"Science\", \"English\"],\n",
        "        \"address\": {\n",
        "            \"street\": \"Bakhtawar Hostel\",\n",
        "            \"city\": \"Jamshoro\"\n",
        "        }\n",
        "    },\n",
        "    \"noor\": {\n",
        "        \"age\": 17,\n",
        "        \"grade\": \"11th\",\n",
        "        \"subjects\": [\"History\", \"French\", \"Art\"],\n",
        "        \"address\": {\n",
        "            \"street\": \"Bakhtawar Hostel\",\n",
        "            \"city\": \"Jamshoro\"\n",
        "        }\n",
        "    }\n",
        "}"
      ],
      "metadata": {
        "id": "4opMcY2tvBCq"
      },
      "execution_count": 3,
      "outputs": []
    }
  ]
}